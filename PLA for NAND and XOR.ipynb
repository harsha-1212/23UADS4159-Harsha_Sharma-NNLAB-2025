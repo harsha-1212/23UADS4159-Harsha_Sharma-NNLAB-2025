{
 "cells": [
  {
   "cell_type": "code",
   "execution_count": 1,
   "id": "b3389d1f-7b58-410e-b917-9ac7ef8f31c8",
   "metadata": {},
   "outputs": [
    {
     "name": "stdout",
     "output_type": "stream",
     "text": [
      "NAND Perceptron Accuracy: 100.0%\n",
      "XOR Perceptron Accuracy: 25.0%\n"
     ]
    }
   ],
   "source": [
    "import numpy as np\n",
    "\n",
    "class Perceptron:\n",
    "    def __init__(self, input_size, learning_rate=0.1, epochs=100):\n",
    "        self.learning_rate = learning_rate\n",
    "        self.epochs = epochs\n",
    "        self.weights = np.random.randn(input_size + 1)  # +1 for bias term\n",
    "\n",
    "    def activation(self, x):\n",
    "        return 1 if x >= 0 else 0\n",
    "\n",
    "    def predict(self, x):\n",
    "        x = np.insert(x, 0, 1)  # Add bias term\n",
    "        return self.activation(np.dot(self.weights, x))\n",
    "\n",
    "    def train(self, X, y):\n",
    "        for _ in range(self.epochs):\n",
    "            for xi, target in zip(X, y):\n",
    "                xi = np.insert(xi, 0, 1)  # Add bias term\n",
    "                prediction = self.activation(np.dot(self.weights, xi))\n",
    "                error = target - prediction\n",
    "                self.weights += self.learning_rate * error * xi\n",
    "\n",
    "    def evaluate(self, X, y):\n",
    "        correct = sum(self.predict(xi) == target for xi, target in zip(X, y))\n",
    "        accuracy = correct / len(y) * 100\n",
    "        return accuracy\n",
    "\n",
    "# NAND Truth Table\n",
    "X_NAND = np.array([[0, 0], [0, 1], [1, 0], [1, 1]])\n",
    "y_NAND = np.array([1, 1, 1, 0])\n",
    "\n",
    "# XOR Truth Table\n",
    "X_XOR = np.array([[0, 0], [0, 1], [1, 0], [1, 1]])\n",
    "y_XOR = np.array([0, 1, 1, 0])\n",
    "\n",
    "# Train and evaluate perceptron for NAND\n",
    "perceptron_nand = Perceptron(input_size=2)\n",
    "perceptron_nand.train(X_NAND, y_NAND)\n",
    "nand_accuracy = perceptron_nand.evaluate(X_NAND, y_NAND)\n",
    "print(f\"NAND Perceptron Accuracy: {nand_accuracy}%\")\n",
    "\n",
    "# Train and evaluate perceptron for XOR\n",
    "perceptron_xor = Perceptron(input_size=2)\n",
    "perceptron_xor.train(X_XOR, y_XOR)\n",
    "xor_accuracy = perceptron_xor.evaluate(X_XOR, y_XOR)\n",
    "print(f\"XOR Perceptron Accuracy: {xor_accuracy}%\")\n"
   ]
  },
  {
   "cell_type": "code",
   "execution_count": null,
   "id": "1d0dd233-349f-4df2-b7c7-5459ced60295",
   "metadata": {},
   "outputs": [],
   "source": []
  }
 ],
 "metadata": {
  "kernelspec": {
   "display_name": "Python 3 (ipykernel)",
   "language": "python",
   "name": "python3"
  },
  "language_info": {
   "codemirror_mode": {
    "name": "ipython",
    "version": 3
   },
   "file_extension": ".py",
   "mimetype": "text/x-python",
   "name": "python",
   "nbconvert_exporter": "python",
   "pygments_lexer": "ipython3",
   "version": "3.12.2"
  }
 },
 "nbformat": 4,
 "nbformat_minor": 5
}
