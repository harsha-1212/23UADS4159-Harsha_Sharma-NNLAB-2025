{
 "cells": [
  {
   "cell_type": "code",
   "execution_count": 1,
   "id": "e9eef10b-796b-47d9-a134-c8383489d1b9",
   "metadata": {},
   "outputs": [
    {
     "name": "stdout",
     "output_type": "stream",
     "text": [
      "Trained weights: [0.1 0.1]\n",
      "Input: [0 0], Predicted Output: 0\n",
      "Input: [0 1], Predicted Output: 1\n",
      "Input: [1 0], Predicted Output: 1\n",
      "Input: [1 1], Predicted Output: 1\n"
     ]
    }
   ],
   "source": [
    "import numpy as np\n",
    "\n",
    "class Perceptron:\n",
    "    def __init__(self, input_size, learning_rate=0.1, epochs=10):\n",
    "        self.input_size = input_size\n",
    "        self.learning_rate = learning_rate\n",
    "        self.epochs = epochs\n",
    "        self.weights = np.zeros(input_size)  # Initialize weights\n",
    "        self.bias = 0  # Initialize bias\n",
    "\n",
    "    def predict(self, x):\n",
    "        return np.where(np.dot(x, self.weights) + self.bias >= 0, 1, 0)\n",
    "\n",
    "    def train(self, X, y):\n",
    "        for _ in range(self.epochs):\n",
    "            for i in range(len(X)):\n",
    "                y_pred = self.predict(X[i])\n",
    "                self.weights += self.learning_rate * (y[i] - y_pred) * X[i]\n",
    "                self.bias += self.learning_rate * (y[i] - y_pred)\n",
    "\n",
    "# Example usage\n",
    "if __name__ == \"__main__\":\n",
    "    # Dataset: OR Gate\n",
    "    X = np.array([[0, 0], [0, 1], [1, 0], [1, 1]])\n",
    "    y = np.array([0, 1, 1, 1])\n",
    "\n",
    "    # Create a Perceptron\n",
    "    perceptron = Perceptron(input_size=2, learning_rate=0.1, epochs=10)\n",
    "\n",
    "    # Train the perceptron\n",
    "    perceptron.train(X, y)\n",
    "\n",
    "    # Test the perceptron\n",
    "    print(\"Trained weights:\", perceptron.weights)\n",
    "    for input_data in X:\n",
    "        print(f\"Input: {input_data}, Predicted Output: {perceptron.predict(input_data)}\")\n"
   ]
  }
 ],
 "metadata": {
  "kernelspec": {
   "display_name": "Python 3 (ipykernel)",
   "language": "python",
   "name": "python3"
  },
  "language_info": {
   "codemirror_mode": {
    "name": "ipython",
    "version": 3
   },
   "file_extension": ".py",
   "mimetype": "text/x-python",
   "name": "python",
   "nbconvert_exporter": "python",
   "pygments_lexer": "ipython3",
   "version": "3.12.2"
  }
 },
 "nbformat": 4,
 "nbformat_minor": 5
}
