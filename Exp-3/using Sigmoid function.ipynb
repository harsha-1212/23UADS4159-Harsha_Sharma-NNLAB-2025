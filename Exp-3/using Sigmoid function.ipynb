{
 "cells": [
  {
   "cell_type": "code",
   "execution_count": 1,
   "id": "06967d1e-4a61-4349-928a-4b5e839b5005",
   "metadata": {},
   "outputs": [
    {
     "name": "stdout",
     "output_type": "stream",
     "text": [
      "Epoch 1, Loss: 0.2865, Training Accuracy: 0.9613\n",
      "Epoch 2, Loss: 0.1123, Training Accuracy: 0.9742\n",
      "Epoch 3, Loss: 0.0852, Training Accuracy: 0.9762\n",
      "Epoch 4, Loss: 0.0669, Training Accuracy: 0.9834\n",
      "Epoch 5, Loss: 0.0559, Training Accuracy: 0.9837\n",
      "Epoch 6, Loss: 0.0520, Training Accuracy: 0.9848\n",
      "Epoch 7, Loss: 0.0473, Training Accuracy: 0.9855\n",
      "Epoch 8, Loss: 0.0440, Training Accuracy: 0.9904\n",
      "Epoch 9, Loss: 0.0415, Training Accuracy: 0.9894\n",
      "Epoch 10, Loss: 0.0378, Training Accuracy: 0.9889\n",
      "Test Accuracy: 0.9740\n"
     ]
    }
   ],
   "source": [
    "import tensorflow as tf\n",
    "import numpy as np\n",
    "from tensorflow.keras.datasets import mnist  # Load MNIST dataset\n",
    "\n",
    "# Load and preprocess the dataset\n",
    "(x_train, y_train), (x_test, y_test) = mnist.load_data()\n",
    "x_train, x_test = x_train.reshape(-1, 784).astype(np.float32) / 255.0, x_test.reshape(-1, 784).astype(np.float32) / 255.0\n",
    "\n",
    "# Convert labels to one-hot encoding\n",
    "num_classes = 10\n",
    "y_train = np.eye(num_classes)[y_train]\n",
    "y_test = np.eye(num_classes)[y_test]\n",
    "\n",
    "# Define network parameters\n",
    "n_input = 784    # Input layer (28x28 pixels)\n",
    "n_hidden1 = 128  # First hidden layer neurons\n",
    "n_hidden2 = 64   # Second hidden layer neurons\n",
    "n_output = 10    # Output layer (10 digits)\n",
    "learning_rate = 0.01\n",
    "n_epochs = 10\n",
    "batch_size = 100\n",
    "\n",
    "# Initialize weights and biases\n",
    "weights = {\n",
    "    'h1': tf.Variable(tf.random.normal([n_input, n_hidden1], stddev=0.1)),\n",
    "    'h2': tf.Variable(tf.random.normal([n_hidden1, n_hidden2], stddev=0.1)),\n",
    "    'out': tf.Variable(tf.random.normal([n_hidden2, n_output], stddev=0.1))\n",
    "}\n",
    "\n",
    "biases = {\n",
    "    'b1': tf.Variable(tf.zeros([n_hidden1])),\n",
    "    'b2': tf.Variable(tf.zeros([n_hidden2])),\n",
    "    'out': tf.Variable(tf.zeros([n_output]))\n",
    "}\n",
    "\n",
    "# Sigmoid Activation Function\n",
    "def sigmoid(x):\n",
    "    return tf.nn.sigmoid(x)\n",
    "\n",
    "# Define the feedforward neural network function\n",
    "def neural_network(x):\n",
    "    layer_1 = sigmoid(tf.matmul(x, weights['h1']) + biases['b1'])  # First hidden layer\n",
    "    layer_2 = sigmoid(tf.matmul(layer_1, weights['h2']) + biases['b2'])  # Second hidden layer\n",
    "    output_layer = tf.matmul(layer_2, weights['out']) + biases['out']  # Output layer (raw logits)\n",
    "    return output_layer\n",
    "\n",
    "# Loss function: Softmax Cross-Entropy\n",
    "def compute_loss(y_true, y_pred):\n",
    "    return tf.reduce_mean(tf.nn.softmax_cross_entropy_with_logits(logits=y_pred, labels=y_true))\n",
    "\n",
    "# Optimizer\n",
    "optimizer = tf.optimizers.Adam(learning_rate)\n",
    "\n",
    "# Prepare training dataset in batches\n",
    "train_dataset = tf.data.Dataset.from_tensor_slices((x_train, y_train)).shuffle(60000).batch(batch_size)\n",
    "\n",
    "# Training loop\n",
    "for epoch in range(n_epochs):\n",
    "    avg_loss = 0.0\n",
    "    for batch_x, batch_y in train_dataset:\n",
    "        with tf.GradientTape() as tape:\n",
    "            predictions = neural_network(batch_x)\n",
    "            loss = compute_loss(batch_y, predictions)\n",
    "        \n",
    "        gradients = tape.gradient(loss, list(weights.values()) + list(biases.values()))\n",
    "        optimizer.apply_gradients(zip(gradients, list(weights.values()) + list(biases.values())))\n",
    "        avg_loss += loss.numpy() / len(train_dataset)\n",
    "\n",
    "    # Compute training accuracy\n",
    "    correct_preds = tf.equal(tf.argmax(neural_network(x_train), axis=1), tf.argmax(y_train, axis=1))\n",
    "    train_acc = tf.reduce_mean(tf.cast(correct_preds, tf.float32)).numpy()\n",
    "    print(f\"Epoch {epoch+1}, Loss: {avg_loss:.4f}, Training Accuracy: {train_acc:.4f}\")\n",
    "\n",
    "# Evaluate model on test data\n",
    "test_preds = neural_network(x_test)\n",
    "correct_test_preds = tf.equal(tf.argmax(test_preds, axis=1), tf.argmax(y_test, axis=1))\n",
    "test_acc = tf.reduce_mean(tf.cast(correct_test_preds, tf.float32)).numpy()\n",
    "print(f\"Test Accuracy: {test_acc:.4f}\")\n"
   ]
  },
  {
   "cell_type": "markdown",
   "id": "a23bd809-2da6-43a3-a5e8-f92b4311f234",
   "metadata": {},
   "source": [
    "Scope of improvement:\n",
    "\n",
    "Replace Sigmoid with Better Activations such as ReLU (Rectified Linear Unit) which is computationally more efficient and avoids saturation issues."
   ]
  },
  {
   "cell_type": "code",
   "execution_count": null,
   "id": "393fd355-4f90-432c-bcd8-64cd0bb4a7cf",
   "metadata": {},
   "outputs": [],
   "source": []
  }
 ],
 "metadata": {
  "kernelspec": {
   "display_name": "Python 3 (ipykernel)",
   "language": "python",
   "name": "python3"
  },
  "language_info": {
   "codemirror_mode": {
    "name": "ipython",
    "version": 3
   },
   "file_extension": ".py",
   "mimetype": "text/x-python",
   "name": "python",
   "nbconvert_exporter": "python",
   "pygments_lexer": "ipython3",
   "version": "3.12.2"
  }
 },
 "nbformat": 4,
 "nbformat_minor": 5
}
